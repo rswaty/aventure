{
  "cells": [
    {
      "cell_type": "raw",
      "metadata": {},
      "source": [
        "---\n",
        "title: \"Working with Randy: a Manual\"\n",
        "format: revealjs\n",
        "editor: visual\n",
        "---"
      ],
      "id": "9f8f4409"
    },
    {
      "cell_type": "markdown",
      "metadata": {},
      "source": [
        "## About me-professionally {.center}\n",
        "\n",
        "I am an Ecologist with The Nature Conservancy's LANDFIRE team, where I do GIS analysis, science communications, and a fair amount of coding in R.\n",
        "\n",
        "![](images/me_blueberries.jpg){fig-align=\"center\"}\n",
        "\n",
        "## I love to \\[try to\\] teach {.center}\n",
        "\n",
        "![](images/kian_I_joes.jpg){fig-align=\"center\"}\n",
        "\n",
        "## I am a high context communicator {.center}\n",
        "\n",
        "![](images/sign.jpg) ::: {.justify}\n",
        "\n",
        "This means that I will be totally confusing some of the time to some of you. You will need to ask for clarification from me, or (!) your classmates.\n",
        "\n",
        ":::\n",
        "\n",
        "## I code a lot\n",
        "\n",
        "::: justify\n",
        "Still there is so much I don't know. You will need to lean on your own brainpower, Google, your peers and that elephant in the room.\n",
        ":::\n",
        "\n",
        "\n",
        "\n",
        "\n",
        "\n",
        "\n",
        "\n",
        "```{css}\n",
        ".center h2 {\n",
        "  text-align: center;\n",
        "}\n",
        "```\n",
        "\n",
        "```{css, echo = FALSE}\n",
        ".justify {\n",
        "  text-align: justify !important\n",
        "}\n",
        "```"
      ],
      "id": "f576a825"
    }
  ],
  "metadata": {
    "kernelspec": {
      "display_name": "Python 3",
      "language": "python",
      "name": "python3"
    }
  },
  "nbformat": 4,
  "nbformat_minor": 5
}